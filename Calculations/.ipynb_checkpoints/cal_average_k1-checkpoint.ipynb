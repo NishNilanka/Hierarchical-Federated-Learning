{
 "cells": [
  {
   "cell_type": "code",
   "execution_count": 1,
   "id": "4ea8fe57-3114-48c6-8c5c-9d6a6482e147",
   "metadata": {},
   "outputs": [
    {
     "name": "stdout",
     "output_type": "stream",
     "text": [
      "                                                Result\n",
      "Energy | Uniform K1                               5.00\n",
      "Energy | High K1 for Low Energy                   5.28\n",
      "Energy | High K1 for High Energy                  4.72\n",
      "Energy, TrainingTime | Uniform K1                 5.00\n",
      "Energy, TrainingTime | High K1 for Low Energy     5.02\n",
      "Energy, TrainingTime | High K1 for High Energy    4.98\n"
     ]
    }
   ],
   "source": [
    "import pandas as pd\n",
    "\n",
    "# Configurations\n",
    "N = 50  # Total number of clients\n",
    "configurations = {\n",
    "    \"Energy | Uniform K1\": {\n",
    "        \"clusters\": [\"Cluster 0\", \"Cluster 1\", \"Cluster 2\", \"Cluster 3\", \"Cluster 4\"],\n",
    "        \"local_iterations\": [5, 5, 5, 5, 5],\n",
    "        \"number_of_clients\": [11, 14, 10, 9, 6]\n",
    "    },\n",
    "    \"Energy | High K1 for Low Energy\": {\n",
    "        \"clusters\": ['Cluster 0', 'Cluster 1', 'Cluster 2', 'Cluster 3', 'Cluster 4'],\n",
    "        \"local_iterations\": [4, 7, 5, 6, 3],\n",
    "        \"number_of_clients\": [11, 14, 10, 9, 6]\n",
    "    },\n",
    "    \"Energy | High K1 for High Energy\": {\n",
    "        \"clusters\": ['Cluster 0', 'Cluster 1', 'Cluster 2', 'Cluster 3', 'Cluster 4'],\n",
    "        \"local_iterations\": [6, 3, 5, 4, 7],\n",
    "        \"number_of_clients\": [11, 14, 10, 9, 6]\n",
    "    },\n",
    "    \"Energy, TrainingTime | Uniform K1\": {\n",
    "        \"clusters\": [\"Cluster 0\", \"Cluster 1\", \"Cluster 2\", \"Cluster 3\", \"Cluster 4\"],\n",
    "        \"local_iterations\": [5, 5, 5, 5, 5],\n",
    "        \"number_of_clients\": [15, 8, 15, 7, 5]\n",
    "    },\n",
    "    \"Energy, TrainingTime | High K1 for Low Energy\": {\n",
    "        \"clusters\": ['Cluster 0', 'Cluster 1', 'Cluster 2', 'Cluster 3', 'Cluster 4'],\n",
    "        \"local_iterations\": [3, 6, 7, 4, 5],\n",
    "        \"number_of_clients\": [15, 8, 15, 7, 5]\n",
    "    },\n",
    "    \"Energy, TrainingTime | High K1 for High Energy\": {\n",
    "        \"clusters\": ['Cluster 0', 'Cluster 1', 'Cluster 2', 'Cluster 3', 'Cluster 4'],\n",
    "        \"local_iterations\": [7, 4, 3, 6, 5],\n",
    "        \"number_of_clients\": [15, 8, 15, 7, 5],\n",
    "    }\n",
    "}\n",
    "\n",
    "# Function to calculate the result based on the provided equation\n",
    "def calculate_for_configurations(configs, total_clients):\n",
    "    results = {}\n",
    "    for config_name, data in configs.items():\n",
    "        clusters = data[\"clusters\"]\n",
    "        k1 = data[\"local_iterations\"]\n",
    "        clients = data[\"number_of_clients\"]\n",
    "\n",
    "        # Normalize number of clients for each cluster\n",
    "        normalized_clients = [c / total_clients for c in clients]\n",
    "\n",
    "        # Perform the calculation for each cluster\n",
    "        calculation = sum(k * n for k, n in zip(k1, normalized_clients))\n",
    "\n",
    "        # Store the result\n",
    "        results[config_name] = calculation\n",
    "\n",
    "    return results\n",
    "\n",
    "# Calculate results\n",
    "results = calculate_for_configurations(configurations, N)\n",
    "\n",
    "# Display results as a DataFrame\n",
    "df_results = pd.DataFrame.from_dict(results, orient=\"index\", columns=[\"Result\"])\n",
    "print(df_results)\n"
   ]
  }
 ],
 "metadata": {
  "kernelspec": {
   "display_name": "Python 3 (ipykernel)",
   "language": "python",
   "name": "python3"
  },
  "language_info": {
   "codemirror_mode": {
    "name": "ipython",
    "version": 3
   },
   "file_extension": ".py",
   "mimetype": "text/x-python",
   "name": "python",
   "nbconvert_exporter": "python",
   "pygments_lexer": "ipython3",
   "version": "3.9.12"
  }
 },
 "nbformat": 4,
 "nbformat_minor": 5
}
